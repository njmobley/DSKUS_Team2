{
 "cells": [
  {
   "cell_type": "code",
   "execution_count": 1,
   "metadata": {},
   "outputs": [],
   "source": [
    "import pandas as pd\n",
    "from matplotlib import pyplot as plt\n",
    "from matplotlib.animation import FuncAnimation\n",
    "import cartopy.crs as ccrs\n",
    "from cartopy.feature import NaturalEarthFeature\n",
    "import cartopy.feature as cfeature\n",
    "import xarray as xr\n",
    "import numpy as np\n",
    "from urllib.request import urlopen\n",
    "from netCDF4 import Dataset"
   ]
  },
  {
   "cell_type": "code",
   "execution_count": 51,
   "metadata": {},
   "outputs": [],
   "source": [
    "path ='/Users/main/Documents/repos/DSKUS_Team2/Datasets/temperature anomaly/'\n",
    "\n",
    "ds = xr.open_mfdataset(path + '*.nc', parallel=True)\n",
    "indicator = ds.resample(time='Y').mean()\n",
    "indicator = indicator.coarsen(lat=4).mean().coarsen(lon=4).mean()\n",
    "\n",
    "path1 ='/Users/main/Documents/repos/DSKUS_Team2/Datasets/precipitation/'\n",
    "ds1 = xr.open_mfdataset(path1 + '*.nc', parallel=True)\n",
    "indicator1 = ds1.resample(time='Y').mean()\n",
    "indicator1 = indicator1.coarsen(lat=4).mean().coarsen(lon=4).mean()\n",
    "\n",
    "path2 ='/Users/main/Documents/repos/DSKUS_Team2/Datasets/soil temperature/'\n",
    "ds2 = xr.open_mfdataset(path2 + '*.nc', parallel=True)\n",
    "indicator2 = ds2.resample(time='Y').mean()\n",
    "indicator2 = indicator2.coarsen(lat=4).mean().coarsen(lon=4).mean()\n",
    "\n",
    "indicator.to_netcdf('surfaceTemperature.nc', 'w')\n",
    "indicator1.to_netcdf('precipitationFlux.nc', 'w')\n",
    "indicator2.to_netcdf('soilTemperature.nc', 'w')"
   ]
  }
 ],
 "metadata": {
  "interpreter": {
   "hash": "17e8e13ff0dcaa8916f4eeb2e41899fa309d00194f62b6b2a77c4ba5a4ad130d"
  },
  "kernelspec": {
   "display_name": "Python 3.8.13 ('dskus3')",
   "language": "python",
   "name": "python3"
  },
  "language_info": {
   "codemirror_mode": {
    "name": "ipython",
    "version": 3
   },
   "file_extension": ".py",
   "mimetype": "text/x-python",
   "name": "python",
   "nbconvert_exporter": "python",
   "pygments_lexer": "ipython3",
   "version": "3.8.13"
  },
  "orig_nbformat": 4
 },
 "nbformat": 4,
 "nbformat_minor": 2
}
