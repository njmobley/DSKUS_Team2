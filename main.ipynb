{
 "cells": [
  {
   "cell_type": "code",
   "execution_count": 3,
   "metadata": {},
   "outputs": [],
   "source": [
    "import pandas as pd\n",
    "from matplotlib import pyplot as plt\n",
    "from matplotlib.animation import FuncAnimation\n",
    "import cartopy.crs as ccrs\n",
    "from cartopy.feature import NaturalEarthFeature\n",
    "import cartopy.feature as cfeature\n",
    "import xarray as xr\n",
    "import numpy as np\n",
    "from urllib.request import urlopen\n",
    "import json\n",
    "import os\n",
    "from netCDF4 import Dataset\n",
    "import requests\n",
    "import h5py\n",
    "import os\n",
    "import altair as alt\n",
    "from vega_datasets import data\n",
    "from altair import datum\n",
    "from sklearn.linear_model import LinearRegression\n",
    "from sklearn.metrics import mean_squared_error\n",
    "import statsmodels.api as sm\n",
    "from statsmodels.tsa.arima_model import ARMA\n",
    "from statsmodels.tsa.arima_model import ARIMA\n",
    "import arch\n",
    "from arch import arch_model"
   ]
  },
  {
   "cell_type": "code",
   "execution_count": 14,
   "metadata": {},
   "outputs": [],
   "source": [
    "df_climate = pd.read_csv('climateByCountry.csv', sep='\\t')\n",
    "df_migration = pd.read_csv('migration_9020.csv')\n",
    "df_crop = pd.read_csv('yield_9015.csv')"
   ]
  }
 ],
 "metadata": {
  "interpreter": {
   "hash": "17e8e13ff0dcaa8916f4eeb2e41899fa309d00194f62b6b2a77c4ba5a4ad130d"
  },
  "kernelspec": {
   "display_name": "Python 3.8.13 ('dskus3')",
   "language": "python",
   "name": "python3"
  },
  "language_info": {
   "codemirror_mode": {
    "name": "ipython",
    "version": 3
   },
   "file_extension": ".py",
   "mimetype": "text/x-python",
   "name": "python",
   "nbconvert_exporter": "python",
   "pygments_lexer": "ipython3",
   "version": "3.8.13"
  },
  "orig_nbformat": 4
 },
 "nbformat": 4,
 "nbformat_minor": 2
}
